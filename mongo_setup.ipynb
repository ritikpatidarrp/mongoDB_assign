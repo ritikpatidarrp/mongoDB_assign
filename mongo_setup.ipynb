{
 "cells": [
  {
   "cell_type": "code",
   "execution_count": 21,
   "metadata": {},
   "outputs": [],
   "source": [
    "from pymongo import MongoClient\n",
    "import json\n",
    "import bson.json_util\n",
    "\n",
    "class MongoDBManager:\n",
    "    def __init__(self, uri, db_name):\n",
    "        self.client = MongoClient(uri)\n",
    "        self.db = self.client[db_name]\n",
    "\n",
    "    def bulk_load_json(self, collection_name, json_file):\n",
    "        collection = self.db[collection_name]\n",
    "        with open(json_file) as file:\n",
    "            for line in file:\n",
    "                data = json.loads(line)\n",
    "                bson_data = bson.json_util.loads(bson.json_util.dumps(data))\n",
    "                collection.insert_one(bson_data)\n",
    "        print(f\"Data from '{json_file}' loaded into '{collection_name}' collection.\")\n",
    "\n",
    "    def insert_comment(self, comment_data):\n",
    "        collection = self.db['comments']\n",
    "        collection.insert_one(comment_data)\n",
    "        print(\"New comment inserted successfully.\")\n",
    "\n",
    "    def insert_movie(self, movie_data):\n",
    "        collection = self.db['movies']\n",
    "        collection.insert_one(movie_data)\n",
    "        print(\"New movie inserted successfully.\")\n",
    "\n",
    "    def insert_theater(self, theater_data):\n",
    "        collection = self.db['theaters']\n",
    "        collection.insert_one(theater_data)\n",
    "        print(\"New theater inserted successfully.\")\n",
    "\n",
    "    def insert_user(self, user_data):\n",
    "        collection = self.db['users']\n",
    "        collection.insert_one(user_data)\n",
    "        print(\"New user inserted successfully.\")\n"
   ]
  },
  {
   "cell_type": "code",
   "execution_count": 22,
   "metadata": {},
   "outputs": [
    {
     "name": "stdout",
     "output_type": "stream",
     "text": [
      "Data from 'sample_mflix/comments.json' loaded into 'comments' collection.\n",
      "Data from 'sample_mflix/movies.json' loaded into 'movies' collection.\n",
      "Data from 'sample_mflix/theaters.json' loaded into 'theaters' collection.\n",
      "Data from 'sample_mflix/users.json' loaded into 'users' collection.\n"
     ]
    }
   ],
   "source": [
    "# MongoDB connection details\n",
    "mongo_uri = 'mongodb://localhost:27017/'\n",
    "db_name = 'mflix'  # Update with database name\n",
    "\n",
    "# Instantiate MongoDBManager\n",
    "mongo_manager = MongoDBManager(mongo_uri, db_name)\n",
    "\n",
    "# Bulk load JSON files into collections\n",
    "mongo_manager.bulk_load_json('comments', 'sample_mflix/comments.json')\n",
    "mongo_manager.bulk_load_json('movies', 'sample_mflix/movies.json')\n",
    "mongo_manager.bulk_load_json('theaters', 'sample_mflix/theaters.json')\n",
    "mongo_manager.bulk_load_json('users', 'sample_mflix/users.json')\n",
    "\n",
    "# # Example usage: Insert new comment\n",
    "# new_comment = {\"text\": \"This is a new comment.\", \"user_id\": \"12345\", \"movie_id\": \"67890\"}\n",
    "# mongo_manager.insert_comment(new_comment)\n",
    "\n",
    "# # Example usage: Insert new movie\n",
    "# new_movie = {\"title\": \"New Movie\", \"year\": 2022, \"genre\": \"Action\"}\n",
    "# mongo_manager.insert_movie(new_movie)\n",
    "\n",
    "# # Example usage: Insert new theater\n",
    "# new_theater = {\"name\": \"New Theater\", \"location\": \"City Center\"}\n",
    "# mongo_manager.insert_theater(new_theater)\n",
    "\n",
    "# # Example usage: Insert new user\n",
    "# new_user = {\"name\": \"John Doe\", \"email\": \"john@example.com\"}\n",
    "# mongo_manager.insert_user(new_user)\n"
   ]
  }
 ],
 "metadata": {
  "kernelspec": {
   "display_name": "Python 3",
   "language": "python",
   "name": "python3"
  },
  "language_info": {
   "codemirror_mode": {
    "name": "ipython",
    "version": 3
   },
   "file_extension": ".py",
   "mimetype": "text/x-python",
   "name": "python",
   "nbconvert_exporter": "python",
   "pygments_lexer": "ipython3",
   "version": "3.12.0"
  }
 },
 "nbformat": 4,
 "nbformat_minor": 2
}
