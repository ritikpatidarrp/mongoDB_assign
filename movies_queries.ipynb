{
 "cells": [
  {
   "cell_type": "code",
   "execution_count": 17,
   "metadata": {},
   "outputs": [],
   "source": [
    "from pymongo import MongoClient\n",
    "# Connect to a local MongoDB instance\n",
    "client = MongoClient('mongodb://localhost:27017/')\n",
    "db = client['mflix']\n",
    "movies_collection = db.get_collection('movies')"
   ]
  },
  {
   "cell_type": "markdown",
   "metadata": {},
   "source": [
    "1.(i) Top N Movies with the Highest IMDB Rating"
   ]
  },
  {
   "cell_type": "code",
   "execution_count": 39,
   "metadata": {},
   "outputs": [
    {
     "name": "stdout",
     "output_type": "stream",
     "text": [
      "Band of Brothers with IMDB Rating 9.6\n",
      "Planet Earth with IMDB Rating 9.5\n",
      "The Civil War with IMDB Rating 9.4\n",
      "A Brave Heart: The Lizzie Velasquez Story with IMDB Rating 9.4\n",
      "The Civil War with IMDB Rating 9.4\n",
      "The Real Miyagi with IMDB Rating 9.3\n",
      "The Shawshank Redemption with IMDB Rating 9.3\n",
      "The Shawshank Redemption with IMDB Rating 9.3\n",
      "Cosmos with IMDB Rating 9.3\n",
      "The Decalogue with IMDB Rating 9.2\n"
     ]
    }
   ],
   "source": [
    "def top_n_movies_highest_imdb_rating(n):\n",
    "    pipeline = [\n",
    "        {\"$match\": {\"imdb.rating\": {\"$ne\": ''}}},\n",
    "        {\"$sort\": {\"imdb.rating\": -1}},\n",
    "        {\"$limit\": n}\n",
    "    ]\n",
    "    top_movies = list(movies_collection.aggregate(pipeline))\n",
    "    for movie in top_movies:\n",
    "        # Assuming the field for movie title is 'title'\n",
    "        print(f\"{movie['title']} with IMDB Rating {movie['imdb']['rating']}\")\n",
    "\n",
    "top_n_movies_highest_imdb_rating(10)\n"
   ]
  },
  {
   "cell_type": "markdown",
   "metadata": {},
   "source": [
    "1.(ii) Top N Movies with the Highest IMDB Rating in a Given Year"
   ]
  },
  {
   "cell_type": "code",
   "execution_count": 58,
   "metadata": {},
   "outputs": [
    {
     "name": "stdout",
     "output_type": "stream",
     "text": [
      "Hera Pheri with IMDB Rating 8.5 of year 2000\n",
      "A Dog's Will with IMDB Rating 8.5 of year 2000\n",
      "Memento with IMDB Rating 8.5 of year 2000\n",
      "Gladiator with IMDB Rating 8.5 of year 2000\n",
      "Requiem for a Dream with IMDB Rating 8.4 of year 2000\n",
      "FLCL with IMDB Rating 8.4 of year 2000\n",
      "The 10th Kingdom with IMDB Rating 8.4 of year 2000\n",
      "Snatch. with IMDB Rating 8.3 of year 2000\n",
      "Mourning Rock with IMDB Rating 8.3 of year 2000\n",
      "Werckmeister Harmonies with IMDB Rating 8.2 of year 2000\n"
     ]
    }
   ],
   "source": [
    "def top_n_movies_highest_imdb_rating_in_year(n, year):\n",
    "    pipeline = [\n",
    "        {\"$match\": {\"year\": year, \"imdb.rating\": {\"$ne\": ''}}},\n",
    "        {\"$sort\": {\"imdb.rating\": -1}},\n",
    "        {\"$limit\": n}\n",
    "    ]\n",
    "    top_movies = list(movies_collection.aggregate(pipeline))\n",
    "    for movie in top_movies:\n",
    "        # Assuming the field for movie title is 'title'\n",
    "        print(f\"{movie['title']} with IMDB Rating {movie['imdb']['rating']} of year {movie['year']}\")\n",
    "    \n",
    "top_n_movies_highest_imdb_rating_in_year(10,2000)"
   ]
  },
  {
   "cell_type": "markdown",
   "metadata": {},
   "source": [
    "1.(iii) Top N Movies with the Highest IMDB Rating and Number of Votes > 1000"
   ]
  },
  {
   "cell_type": "code",
   "execution_count": 35,
   "metadata": {},
   "outputs": [
    {
     "name": "stdout",
     "output_type": "stream",
     "text": [
      "Band of Brothers with IMDB Rating 9.6 having votes 183802\n",
      "Planet Earth with IMDB Rating 9.5 having votes 82896\n",
      "The Civil War with IMDB Rating 9.4 having votes 4624\n",
      "The Civil War with IMDB Rating 9.4 having votes 4625\n",
      "The Shawshank Redemption with IMDB Rating 9.3 having votes 1513145\n",
      "Cosmos with IMDB Rating 9.3 having votes 17174\n",
      "The Shawshank Redemption with IMDB Rating 9.3 having votes 1521105\n",
      "The Godfather with IMDB Rating 9.2 having votes 1038358\n",
      "The Blue Planet with IMDB Rating 9.2 having votes 7093\n",
      "The Decalogue with IMDB Rating 9.2 having votes 10958\n"
     ]
    }
   ],
   "source": [
    "def top_n_movies_highest_imdb_rating_votes_gt_1000(n):\n",
    "    pipeline = [\n",
    "        {\"$match\": {\"imdb.rating\": {\"$ne\": ''},\"imdb.votes\": {\"$gt\": 1000}}},\n",
    "        {\"$sort\": {\"imdb.rating\": -1}},\n",
    "        {\"$limit\": n}\n",
    "    ]\n",
    "    top_movies = list(movies_collection.aggregate(pipeline))\n",
    "    for movie in top_movies:\n",
    "        # Assuming the field for movie title is 'title'\n",
    "        print(f\"{movie['title']} with IMDB Rating {movie['imdb']['rating']} having votes {movie['imdb']['votes']}\")\n",
    "    \n",
    "\n",
    "top_n_movies_highest_imdb_rating_votes_gt_1000(10)"
   ]
  },
  {
   "cell_type": "markdown",
   "metadata": {},
   "source": [
    "1.(iv) Top N Movies with Title Matching a Given Pattern Sorted by Highest Tomatoes Ratings"
   ]
  },
  {
   "cell_type": "code",
   "execution_count": 72,
   "metadata": {},
   "outputs": [
    {
     "name": "stdout",
     "output_type": "stream",
     "text": [
      "Operation Homecoming: Writing the Wartime Experience with Tomatoes Rating 4.5 following pattern \"rit\"\n",
      "Spirited Away with Tomatoes Rating 4.2 following pattern \"rit\"\n",
      "The Spirit of the Beehive with Tomatoes Rating 4.2 following pattern \"rit\"\n",
      "Fierce Light: When Spirit Meets Action with Tomatoes Rating 4.2 following pattern \"rit\"\n",
      "Spirit of the Marathon with Tomatoes Rating 4.1 following pattern \"rit\"\n",
      "The Inheritance or Fuckoffguysgoodday with Tomatoes Rating 4.1 following pattern \"rit\"\n",
      "Inherit the Wind with Tomatoes Rating 4.1 following pattern \"rit\"\n",
      "The Battle of Britain with Tomatoes Rating 4 following pattern \"rit\"\n",
      "Juliet of the Spirits with Tomatoes Rating 4 following pattern \"rit\"\n",
      "Ritual with Tomatoes Rating 4 following pattern \"rit\"\n"
     ]
    }
   ],
   "source": [
    "def top_n_movies_matching_pattern_sorted_by_tomatoes_rating(n, pattern):\n",
    "    pipeline = [\n",
    "        {\"$match\": {\"title\": {\"$regex\": pattern, \"$options\": \"i\"}}},\n",
    "        {\"$sort\": {\"tomatoes.viewer.rating\": -1}},\n",
    "        {\"$limit\": n}\n",
    "    ]\n",
    "    top_movies = list(movies_collection.aggregate(pipeline))\n",
    "    for movie in top_movies:\n",
    "        # Assuming the field for movie title is 'title'\n",
    "        print(f\"{movie['title']} with Tomatoes Rating {movie['tomatoes']['viewer']['rating']} following pattern \\\"{pattern}\\\"\")\n",
    "    \n",
    "\n",
    "top_n_movies_matching_pattern_sorted_by_tomatoes_rating(10, \"rit\")"
   ]
  },
  {
   "cell_type": "markdown",
   "metadata": {},
   "source": [
    "----------------------------------------------------------------------------------------------------------------------------------"
   ]
  },
  {
   "cell_type": "markdown",
   "metadata": {},
   "source": [
    "2.(i) Top N directors who created the maximum number of movies:"
   ]
  },
  {
   "cell_type": "code",
   "execution_count": 132,
   "metadata": {},
   "outputs": [
    {
     "name": "stdout",
     "output_type": "stream",
     "text": [
      "Woody Allen with total movies 40\n",
      "John Ford with total movies 35\n",
      "Takashi Miike with total movies 34\n",
      "John Huston with total movies 34\n",
      "Werner Herzog with total movies 33\n",
      "Martin Scorsese with total movies 32\n",
      "Alfred Hitchcock with total movies 31\n",
      "Sidney Lumet with total movies 30\n",
      "Steven Spielberg with total movies 29\n",
      "Michael Apted with total movies 29\n"
     ]
    }
   ],
   "source": [
    "def top_n_directors_most_movies(n):\n",
    "    pipeline = [\n",
    "        {\"$match\": {\"directors\": {\"$ne\": None}}},\n",
    "        {\"$unwind\": \"$directors\"},\n",
    "        {\"$group\": {\"_id\": \"$directors\", \"count\": {\"$sum\": 1}}},\n",
    "        {\"$sort\": {\"count\": -1}},\n",
    "        {\"$limit\": n}\n",
    "    ]\n",
    "    top_directors = list(movies_collection.aggregate(pipeline))\n",
    "    for top_director in top_directors:\n",
    "        print(f\"{top_director['_id']} with total movies {top_director['count']}\")\n",
    "top_n_directors_most_movies(10)"
   ]
  },
  {
   "cell_type": "markdown",
   "metadata": {},
   "source": [
    "2.(ii) Top N directors who created the maximum number of movies in a given year"
   ]
  },
  {
   "cell_type": "code",
   "execution_count": 151,
   "metadata": {},
   "outputs": [
    {
     "name": "stdout",
     "output_type": "stream",
     "text": [
      "Lone Scherfig with total movies 3\n",
      "Lucas Belvaux with total movies 3\n",
      "Ken Loach with total movies 3\n",
      "Mira Nair with total movies 3\n",
      "SABU with total movies 3\n"
     ]
    }
   ],
   "source": [
    "def top_n_directors_most_movies_in_year(year, n):\n",
    "    # Pipeline to find top N directors with most movies in the given year\n",
    "    pipeline = [\n",
    "        {\"$match\": {\"year\": year, \"directors\": {\"$exists\": True, \"$ne\": None}}},\n",
    "        {\"$unwind\": \"$directors\"},\n",
    "        {\"$group\": {\"_id\": \"$directors\", \"count\": {\"$sum\": 1}}},\n",
    "        {\"$sort\": {\"count\": -1}},\n",
    "        {\"$limit\": n}\n",
    "    ]\n",
    "\n",
    "    # Execute the aggregation pipeline\n",
    "    top_directors = list(movies_collection.aggregate(pipeline))\n",
    "    for top_director in top_directors:\n",
    "        print(top_director['_id'],\"with total movies\",top_director['count'])\n",
    "    \n",
    "\n",
    "year = 2002\n",
    "n = 5\n",
    "top_n_directors_most_movies_in_year(year, n)\n"
   ]
  },
  {
   "cell_type": "markdown",
   "metadata": {},
   "source": [
    "2.(iii) Top N directors who created the maximum number of movies for a given genre"
   ]
  },
  {
   "cell_type": "code",
   "execution_count": 155,
   "metadata": {},
   "outputs": [
    {
     "name": "stdout",
     "output_type": "stream",
     "text": [
      "Hark Tsui with total movies 17 in the genre of Action\n",
      "John Woo with total movies 15 in the genre of Action\n",
      "Robert Rodriguez with total movies 14 in the genre of Action\n",
      "Tony Scott with total movies 14 in the genre of Action\n",
      "Takashi Miike with total movies 12 in the genre of Action\n"
     ]
    }
   ],
   "source": [
    "def top_n_directors_most_movies_in_genre(genre, n):\n",
    "    # Pipeline to find top N directors with most movies in the given genre\n",
    "    pipeline = [\n",
    "        {\"$match\": {\"genres\": genre, \"directors\": {\"$exists\": True, \"$ne\": None}}},\n",
    "        {\"$unwind\": \"$directors\"},\n",
    "        {\"$group\": {\"_id\": \"$directors\", \"count\": {\"$sum\": 1}}},\n",
    "        {\"$sort\": {\"count\": -1}},\n",
    "        {\"$limit\": n}\n",
    "    ]\n",
    "\n",
    "    # Execute the aggregation pipeline\n",
    "    top_directors = list(movies_collection.aggregate(pipeline))\n",
    "    for top_director in top_directors:\n",
    "        print(top_director['_id'],\"with total movies\",top_director['count'],\"in the genre of\",genre)\n",
    "    \n",
    "genre = \"Action\"\n",
    "n = 5\n",
    "top_n_directors_most_movies_in_genre(genre, n)\n"
   ]
  },
  {
   "cell_type": "markdown",
   "metadata": {},
   "source": [
    "---------------------------------------------------------------------------------------------------------------------------------------"
   ]
  },
  {
   "cell_type": "markdown",
   "metadata": {},
   "source": [
    "3.(i) Top N actors who starred in the maximum number of movies overall"
   ]
  },
  {
   "cell_type": "code",
   "execution_count": 166,
   "metadata": {},
   "outputs": [
    {
     "name": "stdout",
     "output_type": "stream",
     "text": [
      "Gèrard Depardieu with total movies 68\n",
      "Robert De Niro with total movies 60\n",
      "Michael Caine with total movies 53\n",
      "Marcello Mastroianni with total movies 50\n",
      "Bruce Willis with total movies 49\n",
      "Max von Sydow with total movies 49\n",
      "Samuel L. Jackson with total movies 48\n",
      "Morgan Freeman with total movies 48\n",
      "Christopher Plummer with total movies 47\n",
      "Gene Hackman with total movies 46\n"
     ]
    }
   ],
   "source": [
    "def top_n_actors_most_movies(n):\n",
    "    # Pipeline to find top N actors with most movies overall\n",
    "    pipeline = [\n",
    "        {\"$match\": {\"cast\": {\"$exists\": True, \"$ne\": None}}},\n",
    "        {\"$unwind\": \"$cast\"},\n",
    "        {\"$group\": {\"_id\": \"$cast\", \"count\": {\"$sum\": 1}}},\n",
    "        {\"$sort\": {\"count\": -1}},\n",
    "        {\"$limit\": n}\n",
    "    ]\n",
    "\n",
    "    # Execute the aggregation pipeline\n",
    "    top_actors = list(movies_collection.aggregate(pipeline))\n",
    "    for actor in top_actors:\n",
    "        print(f\"{actor['_id']} with total movies {actor['count']}\")\n",
    "    \n",
    "\n",
    "top_n_actors_most_movies(10)"
   ]
  },
  {
   "cell_type": "markdown",
   "metadata": {},
   "source": [
    "3.(ii) Top N actors who starred in the maximum number of movies in a given year"
   ]
  },
  {
   "cell_type": "code",
   "execution_count": 165,
   "metadata": {},
   "outputs": [
    {
     "name": "stdout",
     "output_type": "stream",
     "text": [
      "Gena Rowlands with total movies 6 in year 1998\n",
      "K. Krishna with total movies 5 in year 1998\n",
      "Neve Campbell with total movies 5 in year 1998\n",
      "Gwyneth Paltrow with total movies 5 in year 1998\n",
      "Sonu Sisupal with total movies 5 in year 1998\n",
      "Vishwas with total movies 5 in year 1998\n",
      "Brittany Murphy with total movies 5 in year 1998\n",
      "Ayesha Dharker with total movies 5 in year 1998\n",
      "Oliver Platt with total movies 4 in year 1998\n",
      "William H. Macy with total movies 4 in year 1998\n"
     ]
    }
   ],
   "source": [
    "def top_n_actors_most_movies_in_year(year, n):\n",
    "    # Pipeline to find top N actors with most movies in the given year\n",
    "    pipeline = [\n",
    "        {\"$match\": {\"year\": year, \"cast\": {\"$exists\": True, \"$ne\": None}}},\n",
    "        {\"$unwind\": \"$cast\"},\n",
    "        {\"$group\": {\"_id\": \"$cast\", \"count\": {\"$sum\": 1}}},\n",
    "        {\"$sort\": {\"count\": -1}},\n",
    "        {\"$limit\": n}\n",
    "    ]\n",
    "\n",
    "    # Execute the aggregation pipeline\n",
    "    top_actors = list(movies_collection.aggregate(pipeline))\n",
    "    for actor in top_actors:\n",
    "        print(f\"{actor['_id']} with total movies {actor['count']} in year {year}\")\n",
    "        \n",
    "top_n_actors_most_movies_in_year(1998,10)"
   ]
  },
  {
   "cell_type": "markdown",
   "metadata": {},
   "source": [
    "3.(iii) Top N actors who starred in the maximum number of movies for a given genre"
   ]
  },
  {
   "cell_type": "code",
   "execution_count": 164,
   "metadata": {},
   "outputs": [
    {
     "name": "stdout",
     "output_type": "stream",
     "text": [
      "Jackie Chan with total movies 34 with genre Comedy\n",
      "Eddie Murphy with total movies 34 with genre Comedy\n",
      "Gèrard Depardieu with total movies 30 with genre Comedy\n",
      "Adam Sandler with total movies 28 with genre Comedy\n",
      "Jack Lemmon with total movies 27 with genre Comedy\n",
      "Robin Williams with total movies 27 with genre Comedy\n",
      "Akshay Kumar with total movies 25 with genre Comedy\n",
      "Ben Stiller with total movies 24 with genre Comedy\n",
      "Danny DeVito with total movies 24 with genre Comedy\n",
      "Will Ferrell with total movies 24 with genre Comedy\n"
     ]
    }
   ],
   "source": [
    "def top_n_actors_most_movies_in_genre(genre, n):\n",
    "    # Pipeline to find top N actors with most movies in the given genre\n",
    "    pipeline = [\n",
    "        {\"$match\": {\"genres\": genre, \"cast\": {\"$exists\": True, \"$ne\": None}}},\n",
    "        {\"$unwind\": \"$cast\"},\n",
    "        {\"$group\": {\"_id\": \"$cast\", \"count\": {\"$sum\": 1}}},\n",
    "        {\"$sort\": {\"count\": -1}},\n",
    "        {\"$limit\": n}\n",
    "    ]\n",
    "\n",
    "    # Execute the aggregation pipeline\n",
    "    top_actors = list(movies_collection.aggregate(pipeline))\n",
    "    for actor in top_actors:\n",
    "        print(f\"{actor['_id']} with total movies {actor['count']} with genre {genre}\")\n",
    "\n",
    "top_n_actors_most_movies_in_genre(\"Comedy\", 10)"
   ]
  },
  {
   "cell_type": "markdown",
   "metadata": {},
   "source": [
    "----------------------------------------------------------------------------------------------------------------------------------------"
   ]
  },
  {
   "cell_type": "markdown",
   "metadata": {},
   "source": [
    "4. Find top `N` movies for each genre with the highest IMDB rating"
   ]
  },
  {
   "cell_type": "code",
   "execution_count": 176,
   "metadata": {},
   "outputs": [
    {
     "name": "stdout",
     "output_type": "stream",
     "text": [
      "Top 1 movies for Musical:\n",
      "Dr. Horrible's Sing-Along Blog - IMDB Rating: 8.7\n",
      "\n",
      "\n",
      "Top 1 movies for News:\n",
      "Most Likely to Succeed - IMDB Rating: 8.9\n",
      "\n",
      "\n",
      "Top 1 movies for Romance:\n",
      "Pride and Prejudice - IMDB Rating: 9.1\n",
      "\n",
      "\n",
      "Top 1 movies for Action:\n",
      "Band of Brothers - IMDB Rating: 9.6\n",
      "\n",
      "\n",
      "Top 1 movies for Documentary:\n",
      "Planet Earth - IMDB Rating: 9.5\n",
      "\n",
      "\n",
      "Top 1 movies for Talk-Show:\n",
      "The Late Shift - IMDB Rating: 7\n",
      "\n",
      "\n",
      "Top 1 movies for Family:\n",
      "A Brave Heart: The Lizzie Velasquez Story - IMDB Rating: 9.4\n",
      "\n",
      "\n",
      "Top 1 movies for Music:\n",
      "Prerokbe Ognja - IMDB Rating: 9\n",
      "\n",
      "\n",
      "Top 1 movies for Sport:\n",
      "Baseball - IMDB Rating: 9.1\n",
      "\n",
      "\n",
      "Top 1 movies for Animation:\n",
      "Over the Garden Wall - IMDB Rating: 9.2\n",
      "\n",
      "\n",
      "Top 1 movies for War:\n",
      "The Civil War - IMDB Rating: 9.4\n",
      "\n",
      "\n",
      "Top 1 movies for Horror:\n",
      "Never Sleep Again: The Elm Street Legacy - IMDB Rating: 8.7\n",
      "\n",
      "\n",
      "Top 1 movies for Film-Noir:\n",
      "Sunset Blvd. - IMDB Rating: 8.5\n",
      "\n",
      "\n",
      "Top 1 movies for Drama:\n",
      "Band of Brothers - IMDB Rating: 9.6\n",
      "\n",
      "\n",
      "Top 1 movies for History:\n",
      "Band of Brothers - IMDB Rating: 9.6\n",
      "\n",
      "\n",
      "Top 1 movies for Biography:\n",
      "A Brave Heart: The Lizzie Velasquez Story - IMDB Rating: 9.4\n",
      "\n",
      "\n",
      "Top 1 movies for Comedy:\n",
      "Over the Garden Wall - IMDB Rating: 9.2\n",
      "\n",
      "\n",
      "Top 1 movies for Adventure:\n",
      "Over the Garden Wall - IMDB Rating: 9.2\n",
      "\n",
      "\n",
      "Top 1 movies for Sci-Fi:\n",
      "Heart of a Dog - IMDB Rating: 9\n",
      "\n",
      "\n",
      "Top 1 movies for Short:\n",
      "Rabbit and Deer - IMDB Rating: 8.7\n",
      "\n",
      "\n",
      "Top 1 movies for Thriller:\n",
      "Drishyam - IMDB Rating: 8.9\n",
      "\n",
      "\n",
      "Top 1 movies for Western:\n",
      "The Good, the Bad and the Ugly - IMDB Rating: 8.9\n",
      "\n",
      "\n",
      "Top 1 movies for Mystery:\n",
      "Inception - IMDB Rating: 8.8\n",
      "\n",
      "\n",
      "Top 1 movies for Fantasy:\n",
      "The Storyteller - IMDB Rating: 8.9\n",
      "\n",
      "\n",
      "Top 1 movies for Crime:\n",
      "The Shawshank Redemption - IMDB Rating: 9.3\n",
      "\n",
      "\n"
     ]
    }
   ],
   "source": [
    "def top_n_movies_per_genre(n):\n",
    "    pipeline = [\n",
    "        {\"$unwind\": \"$genres\"},\n",
    "        {\"$match\": {\"imdb.rating\": {\"$exists\": True, \"$ne\": \"\"}}},\n",
    "        {\"$sort\": {\"genres\": 1, \"imdb.rating\": -1}},\n",
    "        {\"$group\": {\"_id\": \"$genres\", \"top_movies\": {\"$push\": {\"title\": \"$title\", \"imdb_rating\": \"$imdb.rating\"}}}},\n",
    "        {\"$project\": {\"_id\": 0, \"genre\": \"$_id\", \"top_movies\": {\"$slice\": [\"$top_movies\", n]}}}\n",
    "    ]\n",
    "\n",
    "    # Execute the aggregation pipeline\n",
    "    top_movies_per_genre = list(movies_collection.aggregate(pipeline))\n",
    "\n",
    "    # Print the results\n",
    "    for genre_movies in top_movies_per_genre:\n",
    "        print(f\"Top {n} movies for {genre_movies['genre']}:\")\n",
    "        for movie in genre_movies['top_movies']:\n",
    "            print(f\"{movie['title']} - IMDB Rating: {movie['imdb_rating']}\")\n",
    "        print(\"\\n\")\n",
    "\n",
    "\n",
    "top_n_movies_per_genre(1)  # Change the value of 'n' as needed\n"
   ]
  }
 ],
 "metadata": {
  "kernelspec": {
   "display_name": "Python 3",
   "language": "python",
   "name": "python3"
  },
  "language_info": {
   "codemirror_mode": {
    "name": "ipython",
    "version": 3
   },
   "file_extension": ".py",
   "mimetype": "text/x-python",
   "name": "python",
   "nbconvert_exporter": "python",
   "pygments_lexer": "ipython3",
   "version": "3.12.0"
  }
 },
 "nbformat": 4,
 "nbformat_minor": 2
}
