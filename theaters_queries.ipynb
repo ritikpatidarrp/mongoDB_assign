{
 "cells": [
  {
   "cell_type": "code",
   "execution_count": 28,
   "metadata": {},
   "outputs": [],
   "source": [
    "from pymongo import MongoClient\n",
    "# Connect to a local MongoDB instance\n",
    "client = MongoClient('mongodb://localhost:27017/')\n",
    "db = client['mflix']\n",
    "theaters_collection = db.get_collection('theaters')"
   ]
  },
  {
   "cell_type": "code",
   "execution_count": 11,
   "metadata": {},
   "outputs": [
    {
     "data": {
      "text/plain": [
       "{'_id': ObjectId('59a47286cfa9a3a73e51e72c'),\n",
       " 'theaterId': 1000,\n",
       " 'location': {'address': {'street1': '340 W Market',\n",
       "   'city': 'Bloomington',\n",
       "   'state': 'MN',\n",
       "   'zipcode': '55425'},\n",
       "  'geo': {'type': 'Point', 'coordinates': [-93.24565, 44.85466]}}}"
      ]
     },
     "execution_count": 11,
     "metadata": {},
     "output_type": "execute_result"
    }
   ],
   "source": [
    "theaters_collection.find_one()"
   ]
  },
  {
   "cell_type": "markdown",
   "metadata": {},
   "source": [
    "1: Top N cities with the maximum number of theatres"
   ]
  },
  {
   "cell_type": "code",
   "execution_count": 13,
   "metadata": {},
   "outputs": [
    {
     "name": "stdout",
     "output_type": "stream",
     "text": [
      "Top 10 cities with the maximum number of theaters:\n",
      "Las Vegas: 29 theaters\n",
      "Houston: 22 theaters\n",
      "San Antonio: 14 theaters\n",
      "Orlando: 13 theaters\n",
      "Los Angeles: 12 theaters\n",
      "Dallas: 12 theaters\n",
      "Atlanta: 10 theaters\n",
      "San Francisco: 9 theaters\n",
      "Jacksonville: 9 theaters\n",
      "Minneapolis: 8 theaters\n"
     ]
    }
   ],
   "source": [
    "def top_10_cities_with_max_theatres():\n",
    "    # Pipeline to find top 10 cities with the maximum number of theaters\n",
    "    pipeline = [\n",
    "        {\"$group\": {\n",
    "            \"_id\": \"$location.address.city\",\n",
    "            \"theater_count\": {\"$sum\": 1}\n",
    "        }},\n",
    "        {\"$sort\": {\"theater_count\": -1}},\n",
    "        {\"$limit\": 10}\n",
    "    ]\n",
    "\n",
    "    # Execute the aggregation pipeline\n",
    "    top_cities = list(theaters_collection.aggregate(pipeline))\n",
    "\n",
    "    # Print the results\n",
    "    print(\"Top 10 cities with the maximum number of theaters:\")\n",
    "    for city_data in top_cities:\n",
    "        print(f\"{city_data['_id']}: {city_data['theater_count']} theaters\")\n",
    "\n",
    "\n",
    "top_10_cities_with_max_theatres()\n"
   ]
  },
  {
   "cell_type": "markdown",
   "metadata": {},
   "source": [
    "2: Top N theatres nearby given coordinates"
   ]
  },
  {
   "cell_type": "code",
   "execution_count": 43,
   "metadata": {},
   "outputs": [
    {
     "data": {
      "text/plain": [
       "'location.geo_2dsphere'"
      ]
     },
     "execution_count": 43,
     "metadata": {},
     "output_type": "execute_result"
    }
   ],
   "source": [
    "theaters_collection.create_index([(\"location.geo\", \"2dsphere\")])\n"
   ]
  },
  {
   "cell_type": "code",
   "execution_count": 68,
   "metadata": {},
   "outputs": [
    {
     "name": "stdout",
     "output_type": "stream",
     "text": [
      "Theater with theaterId: 1000 city:  Bloomington\n",
      "Theater with theaterId: 8006 city:  Minneapolis\n",
      "Theater with theaterId: 8064 city:  Minneapolis\n",
      "Theater with theaterId: 8106 city:  Minneapolis\n",
      "Theater with theaterId: 8127 city:  Minneapolis\n",
      "Theater with theaterId: 8108 city:  Minneapolis\n",
      "Theater with theaterId: 8005 city:  Minneapolis\n",
      "Theater with theaterId: 281 city:  Richfield\n",
      "Theater with theaterId: 2387 city:  Richfield\n",
      "Theater with theaterId: 8553 city:  Richfield\n"
     ]
    }
   ],
   "source": [
    "from pymongo import MongoClient\n",
    "\n",
    "def top_n_theatres_nearby(coordinates, n):\n",
    "\n",
    "    # Find theatres near given coordinates\n",
    "    query = {\n",
    "        \"location.geo\": {\n",
    "            \"$nearSphere\": {\n",
    "                \"$geometry\": {\n",
    "                    \"type\": \"Point\",\n",
    "                    \"coordinates\": coordinates\n",
    "                },\n",
    "                \"$maxDistance\": 5000\n",
    "            }\n",
    "        }\n",
    "    }\n",
    "    \n",
    "    # Limit the result to top N theatres\n",
    "    result = theaters_collection.find(query).limit(n)\n",
    "    \n",
    "    # Return the result\n",
    "    return list(result)\n",
    "\n",
    "# Example usage:\n",
    "coordinates = [-93.24565, 44.85466]  # Example coordinates\n",
    "n = 10  # Number of theatres to retrieve\n",
    "top_theatres = top_n_theatres_nearby(coordinates, n)\n",
    "for theatre in top_theatres:\n",
    "    print(\"Theater with theaterId:\",theatre['theaterId'],\"city: \",theatre['location']['address']['city'])\n"
   ]
  }
 ],
 "metadata": {
  "kernelspec": {
   "display_name": "Python 3",
   "language": "python",
   "name": "python3"
  },
  "language_info": {
   "codemirror_mode": {
    "name": "ipython",
    "version": 3
   },
   "file_extension": ".py",
   "mimetype": "text/x-python",
   "name": "python",
   "nbconvert_exporter": "python",
   "pygments_lexer": "ipython3",
   "version": "3.12.0"
  }
 },
 "nbformat": 4,
 "nbformat_minor": 2
}
