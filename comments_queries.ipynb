{
 "cells": [
  {
   "cell_type": "code",
   "execution_count": 7,
   "metadata": {},
   "outputs": [],
   "source": [
    "from pymongo import MongoClient\n",
    "# Connect to a local MongoDB instance\n",
    "client = MongoClient('mongodb://localhost:27017/')\n",
    "db = client['mflix']\n",
    "comment_collection = db.get_collection('comments')"
   ]
  },
  {
   "cell_type": "markdown",
   "metadata": {},
   "source": [
    "i. Find top 10 users who made the maximum number of comments"
   ]
  },
  {
   "cell_type": "code",
   "execution_count": 4,
   "metadata": {},
   "outputs": [
    {
     "name": "stdout",
     "output_type": "stream",
     "text": [
      "#1: User 'roger_ashton-griffiths@gameofthron.es' made 331 comments.\n",
      "#2: User 'nathalie_emmanuel@gameofthron.es' made 327 comments.\n",
      "#3: User 'jonathan_pryce@gameofthron.es' made 315 comments.\n",
      "#4: User 'sophie_turner@gameofthron.es' made 308 comments.\n",
      "#5: User 'ron_donachie@gameofthron.es' made 305 comments.\n",
      "#6: User 'robert_jordan@fakegmail.com' made 304 comments.\n",
      "#7: User 'paul_kaye@gameofthron.es' made 304 comments.\n",
      "#8: User 'gwendoline_christie@gameofthron.es' made 302 comments.\n",
      "#9: User 'kathryn_sosa@fakegmail.com' made 296 comments.\n",
      "#10: User 'andrea_le@fakegmail.com' made 296 comments.\n"
     ]
    }
   ],
   "source": [
    "# Aggregate to find top 10 users with the maximum number of comments\n",
    "pipeline = [\n",
    "    {\"$group\": {\"_id\": \"$email\", \"count\": {\"$sum\": 1}}},\n",
    "    {\"$sort\": {\"count\": -1}},\n",
    "    {\"$limit\": 10}\n",
    "]\n",
    "\n",
    "top_users = list(comment_collection.aggregate(pipeline))\n",
    "\n",
    "# Print the top 10 users\n",
    "for idx, user in enumerate(top_users, start=1):\n",
    "    print(f\"#{idx}: User '{user['_id']}' made {user['count']} comments.\")"
   ]
  },
  {
   "cell_type": "markdown",
   "metadata": {},
   "source": [
    "ii. Find top 10 movies with most comments\n"
   ]
  },
  {
   "cell_type": "code",
   "execution_count": 13,
   "metadata": {},
   "outputs": [
    {
     "name": "stdout",
     "output_type": "stream",
     "text": [
      "#1: Movie 'The Taking of Pelham 1 2 3' has 161 comments.\n",
      "#2: Movie 'Ocean's Eleven' has 158 comments.\n",
      "#3: Movie 'Terminator Salvation' has 158 comments.\n",
      "#4: Movie 'About a Boy' has 158 comments.\n",
      "#5: Movie '50 First Dates' has 158 comments.\n",
      "#6: Movie 'The Mummy' has 157 comments.\n",
      "#7: Movie 'Sherlock Holmes' has 157 comments.\n",
      "#8: Movie 'Hellboy II: The Golden Army' has 155 comments.\n",
      "#9: Movie 'Anchorman: The Legend of Ron Burgundy' has 154 comments.\n",
      "#10: Movie 'The Mummy Returns' has 154 comments.\n"
     ]
    }
   ],
   "source": [
    "movie_collection = db.get_collection('movies')\n",
    "\n",
    "# Aggregate to find top 10 movies with the most comments\n",
    "pipeline = [\n",
    "    {\"$group\": {\"_id\": \"$movie_id\", \"count\": {\"$sum\": 1}}},\n",
    "    {\"$sort\": {\"count\": -1}},\n",
    "    {\"$limit\": 10}\n",
    "]\n",
    "\n",
    "top_movies_with_comments = list(comment_collection.aggregate(pipeline))\n",
    "\n",
    "# Get movie details for top movies\n",
    "top_movies = []\n",
    "for movie in top_movies_with_comments:\n",
    "    movie_details = movie_collection.find_one({\"_id\": movie['_id']})\n",
    "    if movie_details:\n",
    "        top_movies.append({\"title\": movie_details['title'], \"comment_count\": movie['count']})\n",
    "\n",
    "# Print the top 10 movies with most comments\n",
    "for idx, movie in enumerate(top_movies, start=1):\n",
    "    print(f\"#{idx}: Movie '{movie['title']}' has {movie['comment_count']} comments.\")"
   ]
  },
  {
   "cell_type": "markdown",
   "metadata": {},
   "source": [
    "iii. Given a year find the total number of comments created each month in that year"
   ]
  },
  {
   "cell_type": "code",
   "execution_count": 18,
   "metadata": {},
   "outputs": [
    {
     "name": "stdout",
     "output_type": "stream",
     "text": [
      "January 1998: 93 comments\n",
      "February 1998: 77 comments\n",
      "March 1998: 78 comments\n",
      "April 1998: 67 comments\n",
      "May 1998: 104 comments\n",
      "June 1998: 70 comments\n",
      "July 1998: 78 comments\n",
      "August 1998: 105 comments\n",
      "September 1998: 81 comments\n",
      "October 1998: 98 comments\n",
      "November 1998: 75 comments\n",
      "December 1998: 97 comments\n"
     ]
    }
   ],
   "source": [
    "from datetime import datetime\n",
    "\n",
    "# Given year\n",
    "given_year = 1998  # Update with the desired year\n",
    "\n",
    "# Aggregate to find total number of comments created each month in the given year\n",
    "pipeline = [\n",
    "    {\"$match\": {\"date\": {\"$gte\": datetime(given_year, 1, 1), \"$lt\": datetime(given_year + 1, 1, 1)}}},\n",
    "    {\"$project\": {\"month\": {\"$month\": \"$date\"}}},\n",
    "    {\"$group\": {\"_id\": \"$month\", \"total_comments\": {\"$sum\": 1}}},\n",
    "    {\"$sort\": {\"_id\": 1}}\n",
    "]\n",
    "\n",
    "comments_by_month = list(comments_collection.aggregate(pipeline))\n",
    "\n",
    "# Print the total number of comments created each month in the given year\n",
    "for month_data in comments_by_month:\n",
    "    month_number = month_data['_id']\n",
    "    month_name = datetime(1900, month_number, 1).strftime('%B')  # Get month name from month number\n",
    "    total_comments = month_data['total_comments']\n",
    "    print(f\"{month_name} {given_year}: {total_comments} comments\")\n"
   ]
  }
 ],
 "metadata": {
  "kernelspec": {
   "display_name": "Python 3",
   "language": "python",
   "name": "python3"
  },
  "language_info": {
   "codemirror_mode": {
    "name": "ipython",
    "version": 3
   },
   "file_extension": ".py",
   "mimetype": "text/x-python",
   "name": "python",
   "nbconvert_exporter": "python",
   "pygments_lexer": "ipython3",
   "version": "3.12.0"
  }
 },
 "nbformat": 4,
 "nbformat_minor": 2
}
